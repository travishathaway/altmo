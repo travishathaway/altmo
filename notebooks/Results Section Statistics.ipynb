{
 "cells": [
  {
   "cell_type": "code",
   "execution_count": 2,
   "id": "08b327ab-edac-4710-8b98-68dcc97f696e",
   "metadata": {},
   "outputs": [],
   "source": [
    "import math\n",
    "\n",
    "import pandas as pd\n",
    "import matplotlib.pyplot as plt\n",
    "\n",
    "plt.rc('font', size=12) \n",
    "\n",
    "from altmo.data.decorators import psycopg_context\n",
    "\n",
    "PG_DSN = 'dbname=schleswig_holstein_osm_2021_06_04 user=thath host=localhost port=5432 password=thath'\n",
    "STUDY_AREA_ID = 1"
   ]
  },
  {
   "cell_type": "code",
   "execution_count": 3,
   "id": "41afd182-6d2f-4498-85ac-bacb25da7704",
   "metadata": {
    "tags": []
   },
   "outputs": [],
   "source": [
    "def get_df(mode: str) -> pd.DataFrame:\n",
    "    with psycopg_context(PG_DSN) as cursor:\n",
    "        cols = (\n",
    "            'residence_id',\n",
    "            'all_average_time', 'administrative_average_time', 'community_average_time', 'groceries_average_time',\n",
    "            'health_average_time', 'nature_average_time', 'outing_destination_average_time', 'school_average_time',\n",
    "            'shopping_average_time'\n",
    "        )\n",
    "        sql = f'''\n",
    "        SELECT\n",
    "            {','.join(cols)}\n",
    "        FROM\n",
    "            residence_amenity_distance_standardized_categorized s\n",
    "        JOIN\n",
    "            residences r\n",
    "        ON\n",
    "            s.residence_id = r.id\n",
    "        WHERE\n",
    "            mode = %s\n",
    "        AND\n",
    "            r.study_area_id = %s\n",
    "        '''\n",
    "        cursor.execute(sql, (mode, STUDY_AREA_ID))\n",
    "        res = cursor.fetchall()\n",
    "\n",
    "        df = pd.DataFrame(res, columns=cols)\n",
    "        \n",
    "        return df.set_index('residence_id')"
   ]
  },
  {
   "cell_type": "code",
   "execution_count": 4,
   "id": "903295d6-a1a1-4652-878d-00b004dee50c",
   "metadata": {},
   "outputs": [],
   "source": [
    "df_walk = get_df('pedestrian')\n",
    "df_bike = get_df('bicycle')"
   ]
  },
  {
   "cell_type": "code",
   "execution_count": 21,
   "id": "7d8bfdef-02d7-4758-adc6-82d60b573a34",
   "metadata": {},
   "outputs": [],
   "source": [
    "## Bike results"
   ]
  },
  {
   "cell_type": "code",
   "execution_count": 82,
   "id": "a49ab506-31b8-4fdb-8871-694d7331064c",
   "metadata": {},
   "outputs": [
    {
     "data": {
      "image/png": "[encoded data removed]",
      "text/plain": [
       "<Figure size 576x360 with 1 Axes>"
      ]
     },
     "metadata": {
      "needs_background": "light"
     },
     "output_type": "display_data"
    }
   ],
   "source": [
    "fig, ax = plt.subplots(figsize=(8, 5))\n",
    "\n",
    "ax.hist(df_bike['all_average_time'], bins=50)\n",
    "ax.set_xlabel('Trip Duration')\n",
    "ax.set_title('Bicycle Average Distances')\n",
    "ax.grid(color=\"#AAAAAA\", linewidth=0.3)\n",
    "\n",
    "plt.savefig('/home/thath/edu/cau-papers/master-thesis-new/source/figures/all_average_time_bicycle.png')"
   ]
  },
  {
   "cell_type": "code",
   "execution_count": 40,
   "id": "96af9b17-30be-4c5f-88be-8781031be560",
   "metadata": {
    "jupyter": {
     "source_hidden": true
    },
    "tags": []
   },
   "outputs": [
    {
     "name": "stdout",
     "output_type": "stream",
     "text": [
      "Average: 7 min. 37 sec.\n",
      "Std. D.: 3 min. 6 sec.\n",
      "Minimum: 1 min. 49 sec.\n",
      "Maximum: 26 min. 44 sec.\n"
     ]
    }
   ],
   "source": [
    "mean = df_bike['all_average_time'].describe()['mean']\n",
    "std = df_bike['all_average_time'].describe()['std']\n",
    "min_ = df_bike['all_average_time'].describe()['min']\n",
    "max_ = df_bike['all_average_time'].describe()['max']\n",
    "\n",
    "print(f'Average: {int(mean // 60)} min. {int(mean % 60)} sec.')\n",
    "print(f'Std. D.: {int(std // 60)} min. {int(std % 60)} sec.')\n",
    "print(f'Minimum: {int(min_ // 60)} min. {int(min_ % 60)} sec.')\n",
    "print(f'Maximum: {int(max_ // 60)} min. {int(max_ % 60)} sec.')"
   ]
  },
  {
   "cell_type": "code",
   "execution_count": 22,
   "id": "78949ab2-e4be-4c87-9a44-bb37af28e354",
   "metadata": {},
   "outputs": [],
   "source": [
    "## Walking resultss"
   ]
  },
  {
   "cell_type": "code",
   "execution_count": 83,
   "id": "4b7ef51d-45ee-4265-a5a1-37464402e106",
   "metadata": {},
   "outputs": [
    {
     "data": {
      "image/png": "[encoded data removed]",
      "text/plain": [
       "<Figure size 576x360 with 1 Axes>"
      ]
     },
     "metadata": {
      "needs_background": "light"
     },
     "output_type": "display_data"
    }
   ],
   "source": [
    "fig, ax = plt.subplots(figsize=(8, 5))\n",
    "\n",
    "ax.hist(df_walk['all_average_time'], bins=50)\n",
    "ax.set_xlabel('Trip Duration')\n",
    "ax.set_title('Walking Average Distances')\n",
    "ax.grid(color=\"#AAAAAA\", linewidth=0.3)\n",
    "plt.xticks(list(range(0, 5000, 500)))\n",
    "plt.yticks(list(range(0, 4500, 500)))\n",
    "\n",
    "plt.savefig('/home/thath/edu/cau-papers/master-thesis-new/source/figures/all_average_time_pedestrian.png')"
   ]
  },
  {
   "cell_type": "code",
   "execution_count": 10,
   "id": "59ccaf86-cc5d-41ca-bfd6-572f36a8fb26",
   "metadata": {},
   "outputs": [
    {
     "name": "stdout",
     "output_type": "stream",
     "text": [
      "Average: 20 min. 31 sec.\n",
      "Std. D.: 8 min. 37 sec.\n",
      "Minimum: 4 min. 50 sec.\n",
      "Maximum: 73 min. 10 sec.\n"
     ]
    }
   ],
   "source": [
    "mean = df_walk['all_average_time'].describe()['mean']\n",
    "std = df_walk['all_average_time'].describe()['std']\n",
    "min_ = df_walk['all_average_time'].describe()['min']\n",
    "max_ = df_walk['all_average_time'].describe()['max']\n",
    "\n",
    "print(f'Average: {int(mean // 60)} min. {int(mean % 60)} sec.')\n",
    "print(f'Std. D.: {int(std // 60)} min. {int(std % 60)} sec.')\n",
    "print(f'Minimum: {int(min_ // 60)} min. {int(min_ % 60)} sec.')\n",
    "print(f'Maximum: {int(max_ // 60)} min. {int(max_ % 60)} sec.')"
   ]
  },
  {
   "cell_type": "code",
   "execution_count": 11,
   "id": "6fceee23-07ae-4df8-a36c-b5ae022efb30",
   "metadata": {},
   "outputs": [
    {
     "data": {
      "text/plain": [
       "count    60606.000000\n",
       "mean      1231.315225\n",
       "std        517.826026\n",
       "min        290.859168\n",
       "25%        855.071832\n",
       "50%       1216.851792\n",
       "75%       1539.253630\n",
       "max       4390.292408\n",
       "Name: all_average_time, dtype: float64"
      ]
     },
     "execution_count": 11,
     "metadata": {},
     "output_type": "execute_result"
    }
   ],
   "source": [
    "df_walk['all_average_time'].describe()"
   ]
  },
  {
   "cell_type": "code",
   "execution_count": 8,
   "id": "88e07ac7-0a73-46dc-869c-2875cca1441a",
   "metadata": {},
   "outputs": [
    {
     "data": {
      "image/png": "[encoded data removed]",
      "text/plain": [
       "<Figure size 576x360 with 1 Axes>"
      ]
     },
     "metadata": {
      "needs_background": "light"
     },
     "output_type": "display_data"
    }
   ],
   "source": [
    "fig, ax = plt.subplots(figsize=(8, 5))\n",
    "\n",
    "ax.hist(df_walk['groceries_average_time'], bins=50)\n",
    "ax.set_xlabel('Trip Duration')\n",
    "ax.set_title('Walking Time: Groceries')\n",
    "ax.grid(color=\"#AAAAAA\", linewidth=0.3)\n",
    "plt.xticks(list(range(0, 5000, 500)))\n",
    "plt.yticks(list(range(0, 8500, 500)))\n",
    "\n",
    "plt.savefig('/home/thath/edu/cau-papers/master-thesis-new/source/figures/groceries_average_time_pedestrian.png')"
   ]
  },
  {
   "cell_type": "code",
   "execution_count": null,
   "id": "a8fdd57a-9176-4647-9d53-37060c2d1564",
   "metadata": {},
   "outputs": [],
   "source": []
  }
 ],
 "metadata": {
  "kernelspec": {
   "display_name": "Python 3",
   "language": "python",
   "name": "python3"
  },
  "language_info": {
   "codemirror_mode": {
    "name": "ipython",
    "version": 3
   },
   "file_extension": ".py",
   "mimetype": "text/x-python",
   "name": "python",
   "nbconvert_exporter": "python",
   "pygments_lexer": "ipython3",
   "version": "3.9.5"
  }
 },
 "nbformat": 4,
 "nbformat_minor": 5
}
