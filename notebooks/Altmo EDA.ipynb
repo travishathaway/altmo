{
 "cells": [
  {
   "cell_type": "code",
   "execution_count": 2,
   "id": "1e623c11-57d8-4da4-9677-621e5a68d7f5",
   "metadata": {},
   "outputs": [],
   "source": [
    "import pandas as pd\n",
    "from altmo.data.decorators import psycopg_context\n",
    "from altmo.data import write as w\n",
    "\n",
    "PG_DSN = 'dbname=schleswig_holstein_osm_2021_06_04 user=thath host=localhost port=5432 password=thath'\n",
    "STUDY_AREA_ID = 1"
   ]
  },
  {
   "cell_type": "code",
   "execution_count": 21,
   "id": "8292558a-bf78-4fa2-8873-5030a6a5d93d",
   "metadata": {},
   "outputs": [],
   "source": [
    "with psycopg_context(PG_DSN) as cursor:\n",
    "    w.add_category_time_zscores(cursor, STUDY_AREA_ID, 'pedestrian')"
   ]
  },
  {
   "cell_type": "code",
   "execution_count": 2,
   "id": "3ad95071-d7f6-4056-a11a-ffbe4f05555d",
   "metadata": {},
   "outputs": [],
   "source": [
    "with psycopg_context(PG_DSN) as cursor:\n",
    "    w.add_category_time_zscores_all(cursor, STUDY_AREA_ID, 'pedestrian')"
   ]
  },
  {
   "cell_type": "code",
   "execution_count": 3,
   "id": "53c494c9-4d95-44e4-b1e1-07d9abfba221",
   "metadata": {},
   "outputs": [],
   "source": [
    "df = pd.DataFrame(\n",
    "    scores, columns=(\n",
    "        'id', 'administrative_time_zscore', 'community_time_zscore',\n",
    "        'groceries_time_zscore', 'health_time_zscore', 'nature_time_zscore',\n",
    "        'outing_destination_zscore', 'school_time_zscore', 'shopping_time_zscore', 'mode'\n",
    "    )\n",
    ")\n",
    "\n",
    "df = df.set_index('id')"
   ]
  },
  {
   "cell_type": "code",
   "execution_count": 12,
   "id": "1069505b-28f4-4252-8b6f-5bf811cb4515",
   "metadata": {},
   "outputs": [
    {
     "data": {
      "text/plain": [
       "<AxesSubplot:>"
      ]
     },
     "execution_count": 12,
     "metadata": {},
     "output_type": "execute_result"
    },
    {
     "data": {
      "image/png": "[encoded data removed]",
      "text/plain": [
       "<Figure size 432x288 with 1 Axes>"
      ]
     },
     "metadata": {
      "needs_background": "light"
     },
     "output_type": "display_data"
    }
   ],
   "source": [
    "df['administrative_time_zscore'].hist(bins=60)"
   ]
  },
  {
   "cell_type": "code",
   "execution_count": 13,
   "id": "7969e10d-6f22-44f3-b594-24a2ad006b81",
   "metadata": {},
   "outputs": [
    {
     "data": {
      "text/plain": [
       "<AxesSubplot:>"
      ]
     },
     "execution_count": 13,
     "metadata": {},
     "output_type": "execute_result"
    },
    {
     "data": {
      "image/png": "[encoded data removed]",
      "text/plain": [
       "<Figure size 432x288 with 1 Axes>"
      ]
     },
     "metadata": {
      "needs_background": "light"
     },
     "output_type": "display_data"
    }
   ],
   "source": [
    "df['community_time_zscore'].hist(bins=60)"
   ]
  },
  {
   "cell_type": "code",
   "execution_count": 14,
   "id": "3469e5a3-3b20-4530-b4ae-26902e9113c4",
   "metadata": {},
   "outputs": [
    {
     "data": {
      "text/plain": [
       "count    6.060600e+04\n",
       "mean     4.299413e-15\n",
       "std      8.502470e-01\n",
       "min     -1.041842e+00\n",
       "25%     -5.108545e-01\n",
       "50%     -2.396372e-01\n",
       "75%      1.025349e-01\n",
       "max      6.211084e+00\n",
       "Name: community_time_zscore, dtype: float64"
      ]
     },
     "execution_count": 14,
     "metadata": {},
     "output_type": "execute_result"
    }
   ],
   "source": [
    "df['community_time_zscore'].describe()"
   ]
  },
  {
   "cell_type": "code",
   "execution_count": 4,
   "id": "0e060867-822b-40f2-81e1-d1c6eae4e471",
   "metadata": {},
   "outputs": [
    {
     "data": {
      "text/html": [
       "<div>\n",
       "<style scoped>\n",
       "    .dataframe tbody tr th:only-of-type {\n",
       "        vertical-align: middle;\n",
       "    }\n",
       "\n",
       "    .dataframe tbody tr th {\n",
       "        vertical-align: top;\n",
       "    }\n",
       "\n",
       "    .dataframe thead th {\n",
       "        text-align: right;\n",
       "    }\n",
       "</style>\n",
       "<table border=\"1\" class=\"dataframe\">\n",
       "  <thead>\n",
       "    <tr style=\"text-align: right;\">\n",
       "      <th></th>\n",
       "      <th>administrative_time_zscore</th>\n",
       "      <th>community_time_zscore</th>\n",
       "      <th>groceries_time_zscore</th>\n",
       "      <th>health_time_zscore</th>\n",
       "      <th>nature_time_zscore</th>\n",
       "      <th>outing_destination_zscore</th>\n",
       "      <th>school_time_zscore</th>\n",
       "      <th>shopping_time_zscore</th>\n",
       "      <th>mode</th>\n",
       "    </tr>\n",
       "    <tr>\n",
       "      <th>id</th>\n",
       "      <th></th>\n",
       "      <th></th>\n",
       "      <th></th>\n",
       "      <th></th>\n",
       "      <th></th>\n",
       "      <th></th>\n",
       "      <th></th>\n",
       "      <th></th>\n",
       "      <th></th>\n",
       "    </tr>\n",
       "  </thead>\n",
       "  <tbody>\n",
       "    <tr>\n",
       "      <th>1</th>\n",
       "      <td>3.847623</td>\n",
       "      <td>1.436003</td>\n",
       "      <td>3.532389</td>\n",
       "      <td>2.900486</td>\n",
       "      <td>2.486117</td>\n",
       "      <td>2.115480</td>\n",
       "      <td>2.039671</td>\n",
       "      <td>2.065100</td>\n",
       "      <td>walking</td>\n",
       "    </tr>\n",
       "    <tr>\n",
       "      <th>2</th>\n",
       "      <td>3.865233</td>\n",
       "      <td>1.442373</td>\n",
       "      <td>3.490426</td>\n",
       "      <td>2.879972</td>\n",
       "      <td>2.422978</td>\n",
       "      <td>2.116728</td>\n",
       "      <td>2.037689</td>\n",
       "      <td>2.072770</td>\n",
       "      <td>walking</td>\n",
       "    </tr>\n",
       "    <tr>\n",
       "      <th>3</th>\n",
       "      <td>3.974035</td>\n",
       "      <td>1.734103</td>\n",
       "      <td>3.019363</td>\n",
       "      <td>2.864128</td>\n",
       "      <td>1.580680</td>\n",
       "      <td>2.239547</td>\n",
       "      <td>2.212391</td>\n",
       "      <td>2.359762</td>\n",
       "      <td>walking</td>\n",
       "    </tr>\n",
       "    <tr>\n",
       "      <th>4</th>\n",
       "      <td>3.976970</td>\n",
       "      <td>1.735165</td>\n",
       "      <td>3.022114</td>\n",
       "      <td>2.865919</td>\n",
       "      <td>1.584297</td>\n",
       "      <td>2.240875</td>\n",
       "      <td>2.213786</td>\n",
       "      <td>2.361040</td>\n",
       "      <td>walking</td>\n",
       "    </tr>\n",
       "    <tr>\n",
       "      <th>5</th>\n",
       "      <td>4.067693</td>\n",
       "      <td>1.708620</td>\n",
       "      <td>3.175784</td>\n",
       "      <td>2.899736</td>\n",
       "      <td>1.803762</td>\n",
       "      <td>2.267303</td>\n",
       "      <td>2.204943</td>\n",
       "      <td>2.329081</td>\n",
       "      <td>walking</td>\n",
       "    </tr>\n",
       "    <tr>\n",
       "      <th>...</th>\n",
       "      <td>...</td>\n",
       "      <td>...</td>\n",
       "      <td>...</td>\n",
       "      <td>...</td>\n",
       "      <td>...</td>\n",
       "      <td>...</td>\n",
       "      <td>...</td>\n",
       "      <td>...</td>\n",
       "      <td>...</td>\n",
       "    </tr>\n",
       "    <tr>\n",
       "      <th>67961</th>\n",
       "      <td>0.516486</td>\n",
       "      <td>1.882646</td>\n",
       "      <td>1.054436</td>\n",
       "      <td>1.239472</td>\n",
       "      <td>1.033751</td>\n",
       "      <td>0.247688</td>\n",
       "      <td>2.859347</td>\n",
       "      <td>0.846709</td>\n",
       "      <td>walking</td>\n",
       "    </tr>\n",
       "    <tr>\n",
       "      <th>67962</th>\n",
       "      <td>0.325165</td>\n",
       "      <td>1.877724</td>\n",
       "      <td>1.087755</td>\n",
       "      <td>1.290776</td>\n",
       "      <td>1.060569</td>\n",
       "      <td>0.169683</td>\n",
       "      <td>2.812659</td>\n",
       "      <td>0.809227</td>\n",
       "      <td>walking</td>\n",
       "    </tr>\n",
       "    <tr>\n",
       "      <th>67963</th>\n",
       "      <td>0.208893</td>\n",
       "      <td>1.864140</td>\n",
       "      <td>1.063194</td>\n",
       "      <td>1.291162</td>\n",
       "      <td>0.984379</td>\n",
       "      <td>0.142229</td>\n",
       "      <td>2.791261</td>\n",
       "      <td>0.775163</td>\n",
       "      <td>walking</td>\n",
       "    </tr>\n",
       "    <tr>\n",
       "      <th>67964</th>\n",
       "      <td>0.274930</td>\n",
       "      <td>1.874735</td>\n",
       "      <td>1.085842</td>\n",
       "      <td>1.298507</td>\n",
       "      <td>1.037872</td>\n",
       "      <td>0.157078</td>\n",
       "      <td>2.800114</td>\n",
       "      <td>0.793083</td>\n",
       "      <td>walking</td>\n",
       "    </tr>\n",
       "    <tr>\n",
       "      <th>67965</th>\n",
       "      <td>0.172596</td>\n",
       "      <td>1.879005</td>\n",
       "      <td>1.101714</td>\n",
       "      <td>1.316243</td>\n",
       "      <td>1.038298</td>\n",
       "      <td>0.147475</td>\n",
       "      <td>2.810786</td>\n",
       "      <td>0.800289</td>\n",
       "      <td>walking</td>\n",
       "    </tr>\n",
       "  </tbody>\n",
       "</table>\n",
       "<p>60606 rows × 9 columns</p>\n",
       "</div>"
      ],
      "text/plain": [
       "       administrative_time_zscore  community_time_zscore  \\\n",
       "id                                                         \n",
       "1                        3.847623               1.436003   \n",
       "2                        3.865233               1.442373   \n",
       "3                        3.974035               1.734103   \n",
       "4                        3.976970               1.735165   \n",
       "5                        4.067693               1.708620   \n",
       "...                           ...                    ...   \n",
       "67961                    0.516486               1.882646   \n",
       "67962                    0.325165               1.877724   \n",
       "67963                    0.208893               1.864140   \n",
       "67964                    0.274930               1.874735   \n",
       "67965                    0.172596               1.879005   \n",
       "\n",
       "       groceries_time_zscore  health_time_zscore  nature_time_zscore  \\\n",
       "id                                                                     \n",
       "1                   3.532389            2.900486            2.486117   \n",
       "2                   3.490426            2.879972            2.422978   \n",
       "3                   3.019363            2.864128            1.580680   \n",
       "4                   3.022114            2.865919            1.584297   \n",
       "5                   3.175784            2.899736            1.803762   \n",
       "...                      ...                 ...                 ...   \n",
       "67961               1.054436            1.239472            1.033751   \n",
       "67962               1.087755            1.290776            1.060569   \n",
       "67963               1.063194            1.291162            0.984379   \n",
       "67964               1.085842            1.298507            1.037872   \n",
       "67965               1.101714            1.316243            1.038298   \n",
       "\n",
       "       outing_destination_zscore  school_time_zscore  shopping_time_zscore  \\\n",
       "id                                                                           \n",
       "1                       2.115480            2.039671              2.065100   \n",
       "2                       2.116728            2.037689              2.072770   \n",
       "3                       2.239547            2.212391              2.359762   \n",
       "4                       2.240875            2.213786              2.361040   \n",
       "5                       2.267303            2.204943              2.329081   \n",
       "...                          ...                 ...                   ...   \n",
       "67961                   0.247688            2.859347              0.846709   \n",
       "67962                   0.169683            2.812659              0.809227   \n",
       "67963                   0.142229            2.791261              0.775163   \n",
       "67964                   0.157078            2.800114              0.793083   \n",
       "67965                   0.147475            2.810786              0.800289   \n",
       "\n",
       "          mode  \n",
       "id              \n",
       "1      walking  \n",
       "2      walking  \n",
       "3      walking  \n",
       "4      walking  \n",
       "5      walking  \n",
       "...        ...  \n",
       "67961  walking  \n",
       "67962  walking  \n",
       "67963  walking  \n",
       "67964  walking  \n",
       "67965  walking  \n",
       "\n",
       "[60606 rows x 9 columns]"
      ]
     },
     "execution_count": 4,
     "metadata": {},
     "output_type": "execute_result"
    }
   ],
   "source": [
    "df"
   ]
  },
  {
   "cell_type": "code",
   "execution_count": 12,
   "id": "51674f44-f87d-4620-9532-c01682349cb2",
   "metadata": {},
   "outputs": [],
   "source": [
    "with psycopg_context(PG_DSN) as cursor:\n",
    "    cursor.execute('''\n",
    "        SELECT\n",
    "            residence_id as id, \n",
    "            AVG(average_time) as average_time, AVG(average_distance) as average_distance, \n",
    "            AVG(time_zscore) as time_zscore, AVG(distance_zscore)\n",
    "        FROM\n",
    "            residence_amenity_distance_standardized\n",
    "        WHERE\n",
    "            mode = 'bicycle'\n",
    "        GROUP BY\n",
    "            residence_id\n",
    "        HAVING\n",
    "            AVG(average_time) < 2500\n",
    "    ''')\n",
    "    res = cursor.fetchall()"
   ]
  },
  {
   "cell_type": "code",
   "execution_count": 13,
   "id": "1059bc1c-ec2e-476f-88fa-c17770c1ad4b",
   "metadata": {},
   "outputs": [],
   "source": [
    "df1 = pd.DataFrame(\n",
    "    res, columns=(\n",
    "        'id', 'average_time', 'average_distance', 'time_zscore', 'distance_zscore'\n",
    "    )\n",
    ")\n",
    "\n",
    "df1 = df1.set_index('id')"
   ]
  },
  {
   "cell_type": "code",
   "execution_count": 14,
   "id": "36be67d7-0f03-4217-b4ed-4dffbfcb3a20",
   "metadata": {},
   "outputs": [
    {
     "data": {
      "text/plain": [
       "count    60437.000000\n",
       "mean       631.174504\n",
       "std        262.104274\n",
       "min         53.833333\n",
       "25%        437.816993\n",
       "50%        608.287582\n",
       "75%        790.702614\n",
       "max       2133.692810\n",
       "Name: average_time, dtype: float64"
      ]
     },
     "execution_count": 14,
     "metadata": {},
     "output_type": "execute_result"
    }
   ],
   "source": [
    "df1['average_time'].describe()"
   ]
  },
  {
   "cell_type": "code",
   "execution_count": 16,
   "id": "ed2323a3-5832-415a-8dbf-cf68bf2c942b",
   "metadata": {},
   "outputs": [
    {
     "data": {
      "text/plain": [
       "<AxesSubplot:>"
      ]
     },
     "execution_count": 16,
     "metadata": {},
     "output_type": "execute_result"
    },
    {
     "data": {
      "image/png": "[encoded data removed]",
      "text/plain": [
       "<Figure size 432x288 with 1 Axes>"
      ]
     },
     "metadata": {
      "needs_background": "light"
     },
     "output_type": "display_data"
    }
   ],
   "source": [
    "df1['average_time'].hist(bins=100)"
   ]
  },
  {
   "cell_type": "code",
   "execution_count": null,
   "id": "267ff946-2890-44f4-8945-a4d51625c368",
   "metadata": {},
   "outputs": [],
   "source": []
  }
 ],
 "metadata": {
  "kernelspec": {
   "display_name": "Python 3",
   "language": "python",
   "name": "python3"
  },
  "language_info": {
   "codemirror_mode": {
    "name": "ipython",
    "version": 3
   },
   "file_extension": ".py",
   "mimetype": "text/x-python",
   "name": "python",
   "nbconvert_exporter": "python",
   "pygments_lexer": "ipython3",
   "version": "3.9.7"
  }
 },
 "nbformat": 4,
 "nbformat_minor": 5
}
