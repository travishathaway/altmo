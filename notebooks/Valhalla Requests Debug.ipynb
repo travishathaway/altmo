{
 "cells": [
  {
   "cell_type": "code",
   "execution_count": 1,
   "id": "27e54b91-efb7-4f47-8c15-ce091e3d6899",
   "metadata": {},
   "outputs": [],
   "source": [
    "import requests"
   ]
  },
  {
   "cell_type": "code",
   "execution_count": 3,
   "id": "010552e4-6668-472c-80f7-1fffa67fa0db",
   "metadata": {},
   "outputs": [
    {
     "data": {
      "text/plain": [
       "{'sources': [[{'lon': 10.067693, 'lat': 54.294771}]],\n",
       " 'targets': [[{'lon': 10.146565, 'lat': 54.449384}]],\n",
       " 'sources_to_targets': [[{'distance': 21.956,\n",
       "    'time': 4847,\n",
       "    'to_index': 0,\n",
       "    'from_index': 0}]],\n",
       " 'units': 'kilometers'}"
      ]
     },
     "execution_count": 3,
     "metadata": {},
     "output_type": "execute_result"
    }
   ],
   "source": [
    "# Matrix request\n",
    "data = {\n",
    "    \"sources\":[\n",
    "        {\"lon\": 10.067693484640914, \"lat\": 54.294771076390774}\n",
    "    ],\n",
    "    \"targets\": [\n",
    "        # {\"lat\": 10.202835325112417, \"lon\": 54.35246275541735},\n",
    "        {\"lon\": 10.146565254895227, \"lat\": 54.44938422543237}\n",
    "    ],\n",
    "    \"costing\":\"bicycle\"\n",
    "}\n",
    "\n",
    "resp = requests.get('http://localhost:8002/sources_to_targets', json=data)\n",
    "\n",
    "resp.json()"
   ]
  },
  {
   "cell_type": "code",
   "execution_count": null,
   "id": "93d0bc8b-5ae3-48ef-b5d3-35cb0386e8e5",
   "metadata": {},
   "outputs": [],
   "source": [
    "# Single direction request\n",
    "data = {\n",
    "    \"locations\":[\n",
    "        {\"lat\": 10.203830068026637, \"lon\": 54.35272662972769},\n",
    "        {\"lat\": 10.202835325112417, \"lon\": 54.35246275541735}\n",
    "    ],\n",
    "    \"costing\":\"bicycle\",\n",
    "    \"directions_options\":{\n",
    "        \"units\": \"kilometer\"\n",
    "    }\n",
    "}\n"
   ]
  },
  {
   "cell_type": "code",
   "execution_count": 3,
   "id": "daf0f23c-fc16-450c-9290-2995374da759",
   "metadata": {},
   "outputs": [
    {
     "data": {
      "text/plain": [
       "{'error_code': 171,\n",
       " 'error': 'No suitable edges near location',\n",
       " 'status_code': 400,\n",
       " 'status': 'Bad Request'}"
      ]
     },
     "execution_count": 3,
     "metadata": {},
     "output_type": "execute_result"
    }
   ],
   "source": [
    "resp.json()"
   ]
  },
  {
   "cell_type": "code",
   "execution_count": null,
   "id": "96c18a81-1fe2-41a3-86f8-fb6223c69871",
   "metadata": {},
   "outputs": [],
   "source": []
  }
 ],
 "metadata": {
  "kernelspec": {
   "display_name": "Python 3",
   "language": "python",
   "name": "python3"
  },
  "language_info": {
   "codemirror_mode": {
    "name": "ipython",
    "version": 3
   },
   "file_extension": ".py",
   "mimetype": "text/x-python",
   "name": "python",
   "nbconvert_exporter": "python",
   "pygments_lexer": "ipython3",
   "version": "3.9.5"
  }
 },
 "nbformat": 4,
 "nbformat_minor": 5
}
